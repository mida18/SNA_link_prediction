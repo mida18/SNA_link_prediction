{
 "cells": [
  {
   "cell_type": "code",
   "execution_count": 1,
   "metadata": {},
   "outputs": [],
   "source": [
    "import pandas as pd\n",
    "import numpy as np\n",
    "import random\n",
    "import networkx as nx\n",
    "import matplotlib.pyplot as plt\n",
    "from sklearn.model_selection import train_test_split\n",
    "from node2vec import Node2Vec\n",
    "from time import time"
   ]
  },
  {
   "cell_type": "code",
   "execution_count": 2,
   "metadata": {},
   "outputs": [
    {
     "name": "stdout",
     "output_type": "stream",
     "text": [
      "training pairs： 20457, predict pairs： 10231\n"
     ]
    }
   ],
   "source": [
    "train = pd.read_csv(\"data_train_edge.csv\")\n",
    "predict = pd.read_csv(\"predict.csv\")\n",
    "print(\"training pairs： %s, predict pairs： %s\" % (len(train),len(predict)))"
   ]
  },
  {
   "cell_type": "code",
   "execution_count": 3,
   "metadata": {},
   "outputs": [
    {
     "data": {
      "text/html": [
       "<div>\n",
       "<style scoped>\n",
       "    .dataframe tbody tr th:only-of-type {\n",
       "        vertical-align: middle;\n",
       "    }\n",
       "\n",
       "    .dataframe tbody tr th {\n",
       "        vertical-align: top;\n",
       "    }\n",
       "\n",
       "    .dataframe thead th {\n",
       "        text-align: right;\n",
       "    }\n",
       "</style>\n",
       "<table border=\"1\" class=\"dataframe\">\n",
       "  <thead>\n",
       "    <tr style=\"text-align: right;\">\n",
       "      <th></th>\n",
       "      <th>node1</th>\n",
       "      <th>node2</th>\n",
       "    </tr>\n",
       "  </thead>\n",
       "  <tbody>\n",
       "    <tr>\n",
       "      <th>0</th>\n",
       "      <td>287</td>\n",
       "      <td>68</td>\n",
       "    </tr>\n",
       "    <tr>\n",
       "      <th>1</th>\n",
       "      <td>63</td>\n",
       "      <td>552</td>\n",
       "    </tr>\n",
       "    <tr>\n",
       "      <th>2</th>\n",
       "      <td>189</td>\n",
       "      <td>20</td>\n",
       "    </tr>\n",
       "    <tr>\n",
       "      <th>3</th>\n",
       "      <td>380</td>\n",
       "      <td>376</td>\n",
       "    </tr>\n",
       "    <tr>\n",
       "      <th>4</th>\n",
       "      <td>370</td>\n",
       "      <td>443</td>\n",
       "    </tr>\n",
       "  </tbody>\n",
       "</table>\n",
       "</div>"
      ],
      "text/plain": [
       "   node1  node2\n",
       "0    287     68\n",
       "1     63    552\n",
       "2    189     20\n",
       "3    380    376\n",
       "4    370    443"
      ]
     },
     "execution_count": 3,
     "metadata": {},
     "output_type": "execute_result"
    }
   ],
   "source": [
    "train.head(5)"
   ]
  },
  {
   "cell_type": "markdown",
   "metadata": {},
   "source": [
    "# origin train graph"
   ]
  },
  {
   "cell_type": "code",
   "execution_count": 4,
   "metadata": {},
   "outputs": [],
   "source": [
    "# create graph\n",
    "G = nx.from_pandas_edgelist(train, \"node1\", \"node2\", create_using=nx.DiGraph())"
   ]
  },
  {
   "cell_type": "code",
   "execution_count": 5,
   "metadata": {},
   "outputs": [
    {
     "name": "stdout",
     "output_type": "stream",
     "text": [
      "Number of nodes : 979\n",
      "Number of edges : 20457\n"
     ]
    }
   ],
   "source": [
    "n = G.number_of_nodes()\n",
    "m = G.number_of_edges()\n",
    "print(\"Number of nodes :\", str(n))\n",
    "print(\"Number of edges :\", str(m))"
   ]
  },
  {
   "cell_type": "code",
   "execution_count": 6,
   "metadata": {},
   "outputs": [
    {
     "name": "stdout",
     "output_type": "stream",
     "text": [
      "Name: \n",
      "Type: DiGraph\n",
      "Number of nodes: 979\n",
      "Number of edges: 20457\n",
      "Average in degree:  20.8958\n",
      "Average out degree:  20.8958\n"
     ]
    }
   ],
   "source": [
    "print(nx.info(G))"
   ]
  },
  {
   "cell_type": "markdown",
   "metadata": {},
   "source": [
    "# generate missing edges"
   ]
  },
  {
   "cell_type": "code",
   "execution_count": 7,
   "metadata": {},
   "outputs": [],
   "source": [
    "#the dict will contain a tuple of 2 nodes as key and the value will be 1 if the nodes are connected\n",
    "G = nx.from_pandas_edgelist(train, \"node1\", \"node2\", create_using=nx.DiGraph())\n",
    "edges = dict()\n",
    "for edge in train.values:\n",
    "    edges[(edge[0], edge[1])] = 1\n",
    "    \n",
    "missing_edges = set([])\n",
    "while (len(missing_edges)< G.number_of_edges()):\n",
    "    a=random.randint(0, 1004)\n",
    "    b=random.randint(0, 1004)\n",
    "    tmp = edges.get((a,b),-1) # if key(a,b) is not in edges(connected nodes) then return -1, otherwise return 1 \n",
    "    if tmp == -1 and a!=b:\n",
    "        try:\n",
    "            # adding points who less likely to be friends\n",
    "            if nx.shortest_path_length(G,source=a,target=b) > 2: \n",
    "                missing_edges.add((a,b))\n",
    "            else:\n",
    "                continue  \n",
    "        except:  \n",
    "            missing_edges.add((a,b))              \n",
    "    else:\n",
    "        continue"
   ]
  },
  {
   "cell_type": "code",
   "execution_count": 8,
   "metadata": {},
   "outputs": [
    {
     "name": "stdout",
     "output_type": "stream",
     "text": [
      "# of positive samples: 20457, # of negative samples: 20457\n"
     ]
    }
   ],
   "source": [
    "print('# of positive samples: %d, # of negative samples: %d' % (len(edges),len(missing_edges)))"
   ]
  },
  {
   "cell_type": "code",
   "execution_count": 9,
   "metadata": {},
   "outputs": [],
   "source": [
    "pos = pd.DataFrame(list(edges), columns=['node1', 'node2'])\n",
    "neg = pd.DataFrame(list(missing_edges), columns=['node1', 'node2'])"
   ]
  },
  {
   "cell_type": "code",
   "execution_count": 10,
   "metadata": {},
   "outputs": [],
   "source": [
    "train_all = pos.append(neg,ignore_index=True)\n",
    "y_train_all = np.concatenate((np.ones(len(pos)), np.zeros(len(neg))))"
   ]
  },
  {
   "cell_type": "markdown",
   "metadata": {},
   "source": [
    "# train-test split"
   ]
  },
  {
   "cell_type": "code",
   "execution_count": 11,
   "metadata": {},
   "outputs": [
    {
     "name": "stdout",
     "output_type": "stream",
     "text": [
      "Number of nodes in the graph with edges 20457\n",
      "Number of nodes in the graph without edges 20457\n",
      "\n",
      "\n",
      "Number of nodes in the train data graph with edges 14319\n",
      "Number of nodes in the train data graph without edges 14319\n",
      "\n",
      "\n",
      "Number of nodes in the test data graph with edges 6138\n",
      "Number of nodes in the test data graph without edges 6138\n"
     ]
    }
   ],
   "source": [
    "# total data \n",
    "df_pos = pd.read_csv('data_train_edge.csv')\n",
    "df_neg = pd.DataFrame(list(missing_edges), columns=['node1', 'node2'])\n",
    "print(\"Number of nodes in the graph with edges\", df_pos.shape[0])\n",
    "print(\"Number of nodes in the graph without edges\", df_neg.shape[0])\n",
    " \n",
    "# Spilt data into 70-30 positive/negative links seperatly,we only need \"positive training data\" for creating graph and features\n",
    "X_train_pos, X_test_pos, y_train_pos, y_test_pos  = train_test_split(df_pos,np.ones(len(df_pos)),test_size=0.3, random_state=9)\n",
    "X_train_neg, X_test_neg, y_train_neg, y_test_neg  = train_test_split(df_neg,np.zeros(len(df_neg)),test_size=0.3, random_state=9)\n",
    "print('\\n')\n",
    "print(\"Number of nodes in the train data graph with edges\", X_train_pos.shape[0])\n",
    "print(\"Number of nodes in the train data graph without edges\", X_train_neg.shape[0])\n",
    "print('\\n')\n",
    "print(\"Number of nodes in the test data graph with edges\", X_test_pos.shape[0])\n",
    "print(\"Number of nodes in the test data graph without edges\", X_test_neg.shape[0])"
   ]
  },
  {
   "cell_type": "code",
   "execution_count": 12,
   "metadata": {},
   "outputs": [
    {
     "name": "stdout",
     "output_type": "stream",
     "text": [
      "Name: \n",
      "Type: DiGraph\n",
      "Number of nodes: 941\n",
      "Number of edges: 14319\n",
      "Average in degree:  15.2168\n",
      "Average out degree:  15.2168 \n",
      "\n",
      "Name: \n",
      "Type: DiGraph\n",
      "Number of nodes: 881\n",
      "Number of edges: 6138\n",
      "Average in degree:   6.9671\n",
      "Average out degree:   6.9671 \n",
      "\n",
      "# of people common in train and test --  843\n",
      "# of people present in train but not present in test --  98\n",
      "# of people present in test but not present in train --  38\n",
      " % of people not in Train but exist in Test in total Test data are 4.313280363223609 %\n"
     ]
    }
   ],
   "source": [
    "train_graph=nx.from_pandas_edgelist(X_train_pos, \"node1\", \"node2\", create_using=nx.DiGraph())\n",
    "test_graph=nx.from_pandas_edgelist(X_test_pos, \"node1\", \"node2\", create_using=nx.DiGraph())\n",
    "print(nx.info(train_graph),'\\n')\n",
    "print(nx.info(test_graph),'\\n')\n",
    "\n",
    "# find the unique nodes in the both train and test graphs\n",
    "train_nodes_pos = set(train_graph.nodes())\n",
    "test_nodes_pos = set(test_graph.nodes())\n",
    "\n",
    "trY_teY = len(train_nodes_pos.intersection(test_nodes_pos))\n",
    "trY_teN = len(train_nodes_pos - test_nodes_pos)\n",
    "teY_trN = len(test_nodes_pos - train_nodes_pos)\n",
    "\n",
    "print('# of people common in train and test -- ',trY_teY)\n",
    "print('# of people present in train but not present in test -- ',trY_teN)\n",
    "print('# of people present in test but not present in train -- ',teY_trN) #比較沒有冷啟動問題\n",
    "print(' % of people not in Train but exist in Test in total Test data are {} %'.format(teY_trN/len(test_nodes_pos)*100))"
   ]
  },
  {
   "cell_type": "code",
   "execution_count": 13,
   "metadata": {},
   "outputs": [],
   "source": [
    "# concatenate positive & negative samples\n",
    "X_train = X_train_pos.append(X_train_neg,ignore_index=True)\n",
    "y_train = np.concatenate((y_train_pos,y_train_neg))\n",
    "X_test = X_test_pos.append(X_test_neg,ignore_index=True)\n",
    "y_test = np.concatenate((y_test_pos,y_test_neg)) "
   ]
  },
  {
   "cell_type": "code",
   "execution_count": 14,
   "metadata": {},
   "outputs": [
    {
     "name": "stdout",
     "output_type": "stream",
     "text": [
      "X_train: 28638, X_test: 12276 \n"
     ]
    }
   ],
   "source": [
    "print(\"X_train: %s, X_test: %s \" % (len(X_train), len(X_test)))"
   ]
  },
  {
   "cell_type": "markdown",
   "metadata": {},
   "source": [
    "# train-validation split"
   ]
  },
  {
   "cell_type": "code",
   "execution_count": 15,
   "metadata": {},
   "outputs": [],
   "source": [
    "X_train_tra_pos, X_train_val_pos, y_train_tra_pos, y_train_val_pos  = train_test_split(X_train_pos,np.ones(len(X_train_pos)),test_size=0.2, random_state=9)\n",
    "X_train_tra_neg, X_train_val_neg, y_train_tra_neg, y_train_val_neg  = train_test_split(X_train_neg,np.zeros(len(X_train_neg)),test_size=0.2, random_state=9)"
   ]
  },
  {
   "cell_type": "code",
   "execution_count": 16,
   "metadata": {},
   "outputs": [
    {
     "name": "stdout",
     "output_type": "stream",
     "text": [
      "Name: \n",
      "Type: DiGraph\n",
      "Number of nodes: 917\n",
      "Number of edges: 11455\n",
      "Average in degree:  12.4918\n",
      "Average out degree:  12.4918 \n",
      "\n",
      "Name: \n",
      "Type: DiGraph\n",
      "Number of nodes: 778\n",
      "Number of edges: 2864\n",
      "Average in degree:   3.6812\n",
      "Average out degree:   3.6812 \n",
      "\n"
     ]
    }
   ],
   "source": [
    "train_tra_graph=nx.from_pandas_edgelist(X_train_tra_pos, \"node1\", \"node2\", create_using=nx.DiGraph())\n",
    "train_val_graph=nx.from_pandas_edgelist(X_train_val_pos, \"node1\", \"node2\", create_using=nx.DiGraph())\n",
    "print(nx.info(train_tra_graph),'\\n')\n",
    "print(nx.info(train_val_graph),'\\n')"
   ]
  },
  {
   "cell_type": "code",
   "execution_count": 17,
   "metadata": {},
   "outputs": [],
   "source": [
    "# concatenate positive & negative samples\n",
    "X_train_tra = X_train_tra_pos.append(X_train_tra_neg, ignore_index=True)\n",
    "y_train_tra = np.concatenate((y_train_tra_pos, y_train_tra_neg))\n",
    "X_train_val = X_train_val_pos.append(X_train_val_neg, ignore_index=True)\n",
    "y_train_val = np.concatenate((y_train_val_pos, y_train_val_neg)) "
   ]
  },
  {
   "cell_type": "code",
   "execution_count": 18,
   "metadata": {},
   "outputs": [
    {
     "name": "stdout",
     "output_type": "stream",
     "text": [
      "X_train_train: 22910, X_train_validation: 5728 \n"
     ]
    }
   ],
   "source": [
    "print(\"X_train_train: %s, X_train_validation: %s \" % (len(X_train_tra), len(X_train_val)))"
   ]
  },
  {
   "cell_type": "markdown",
   "metadata": {},
   "source": [
    "# Features(proximity score)"
   ]
  },
  {
   "cell_type": "code",
   "execution_count": 19,
   "metadata": {
    "code_folding": [
     6
    ]
   },
   "outputs": [],
   "source": [
    "'''\n",
    "A \"successor\" of n is a node m such that there exists a directed edge \"from n to m\" (n->m ,n向外指向的nodes數)\n",
    "A \"predecessor\" of n is a node m such that there exists a directed edge \"from m to n\" (m->n ,指向n的nodes數)\n",
    "此處因是directed graph，定義「被指向者」為朋友，ex：a->b，b為a的朋友\n",
    "'''\n",
    "# 1.Jaccard_coefficient\n",
    "def cal_jaccard_coefficient(a,b,train_graph):\n",
    "    try:\n",
    "        if len(set(train_graph.successors(a))) == 0  | len(set(train_graph.successors(b))) == 0:\n",
    "            return 0\n",
    "        sim = (len(set(train_graph.successors(a)).intersection(set(train_graph.successors(b)))))/\\\n",
    "                                 (len(set(train_graph.successors(a)).union(set(train_graph.successors(b)))))\n",
    "        return sim\n",
    "    except:\n",
    "        return 0\n",
    "\n",
    "# 2.Adar Index\n",
    "def calc_adar_in(a,b,train_graph):\n",
    "    sum=0\n",
    "    try:\n",
    "        n=list(set(train_graph.successors(a)).intersection(set(train_graph.successors(b)))) #同時被 a、b指向者(common friends)\n",
    "        if len(n)!=0:\n",
    "            for i in n:\n",
    "                a = len(list(train_graph.predecessors(i))) #每一個common friend的朋友數量(指向 i 的數量)\n",
    "                if a > 1:\n",
    "                    sum =sum +(1/np.log10(a)) # i 的朋友數越多，權重佔比越小 \n",
    "                else:\n",
    "                    continue\n",
    "            return sum\n",
    "        else:\n",
    "            return 0\n",
    "    except:\n",
    "        return 0"
   ]
  },
  {
   "cell_type": "code",
   "execution_count": 20,
   "metadata": {
    "code_folding": []
   },
   "outputs": [],
   "source": [
    "# 3.Shortest path\n",
    "def compute_shortest_path_length(a,b,train_graph):\n",
    "    p=-1\n",
    "    try:\n",
    "        if train_graph.has_edge(a,b):\n",
    "            train_graph.remove_edge(a,b)\n",
    "            p= nx.shortest_path_length(train_graph,source=a,target=b)\n",
    "            train_graph.add_edge(a,b)\n",
    "        else:\n",
    "            p= nx.shortest_path_length(train_graph,source=a,target=b)\n",
    "        return p\n",
    "    except:\n",
    "        return -1"
   ]
  },
  {
   "cell_type": "code",
   "execution_count": 21,
   "metadata": {
    "code_folding": [
     1
    ]
   },
   "outputs": [],
   "source": [
    "# 4.Follow back\n",
    "def follows_back(a,b,train_graph):\n",
    "    if train_graph.has_edge(b,a):\n",
    "        return 1\n",
    "    else:\n",
    "        return 0"
   ]
  },
  {
   "cell_type": "code",
   "execution_count": 22,
   "metadata": {},
   "outputs": [
    {
     "name": "stdout",
     "output_type": "stream",
     "text": [
      "Name: \n",
      "Type: DiGraph\n",
      "Number of nodes: 979\n",
      "Number of edges: 20457\n",
      "Average in degree:  20.8958\n",
      "Average out degree:  20.8958\n"
     ]
    }
   ],
   "source": [
    "print(nx.info(G))"
   ]
  },
  {
   "cell_type": "code",
   "execution_count": 23,
   "metadata": {},
   "outputs": [
    {
     "name": "stdout",
     "output_type": "stream",
     "text": [
      "Name: \n",
      "Type: DiGraph\n",
      "Number of nodes: 941\n",
      "Number of edges: 14319\n",
      "Average in degree:  15.2168\n",
      "Average out degree:  15.2168\n"
     ]
    }
   ],
   "source": [
    "print(nx.info(train_graph))"
   ]
  },
  {
   "cell_type": "code",
   "execution_count": 24,
   "metadata": {},
   "outputs": [
    {
     "name": "stdout",
     "output_type": "stream",
     "text": [
      "Name: \n",
      "Type: DiGraph\n",
      "Number of nodes: 917\n",
      "Number of edges: 11455\n",
      "Average in degree:  12.4918\n",
      "Average out degree:  12.4918\n"
     ]
    }
   ],
   "source": [
    "print(nx.info(train_tra_graph))"
   ]
  },
  {
   "cell_type": "code",
   "execution_count": 25,
   "metadata": {
    "code_folding": []
   },
   "outputs": [],
   "source": [
    "# 5.Page rank(count the number and quality of nodes to determine how important the node is)\n",
    "'''\n",
    "For the data points which exists in test dataset but not exists in the train dataset will not have pagerank value.\n",
    "For these data points,just use the mean pagerank as imputation.\n",
    "'''\n",
    "def pg_rank(train_graph):\n",
    "    pr = nx.pagerank(train_graph, alpha=0.85) #dict\n",
    "    mean_pr = float(sum(pr.values())) / len(pr)\n",
    "    print(\"pg rank\")\n",
    "    print('min',pr[min(pr, key=pr.get)])\n",
    "    print('max',pr[max(pr, key=pr.get)])\n",
    "    print('mean',mean_pr)\n",
    "    return pr, mean_pr"
   ]
  },
  {
   "cell_type": "code",
   "execution_count": 26,
   "metadata": {
    "code_folding": [
     1
    ]
   },
   "outputs": [],
   "source": [
    "# 6.Katz Centrality(measure influence by taking into account the total number of walks between a pair of nodes)\n",
    "def katz_central(train_graph):\n",
    "    katz = nx.katz.katz_centrality(train_graph,alpha=0.005,beta=1)\n",
    "    mean_katz = float(sum(katz.values())) / len(katz)\n",
    "    print('Katz Centrality')\n",
    "    print('min',katz[min(katz, key=katz.get)])\n",
    "    print('max',katz[max(katz, key=katz.get)])\n",
    "    print('mean',mean_katz)\n",
    "    return katz, mean_katz"
   ]
  },
  {
   "cell_type": "code",
   "execution_count": 27,
   "metadata": {
    "code_folding": []
   },
   "outputs": [],
   "source": [
    "# 7.HITS\n",
    "'''\n",
    "HITS identifies good authorities and hubs for a topic by assigning two numbers to a node : an authority and a hub weight. \n",
    "Authorities estimate the node value based on the incoming links. \n",
    "Hubs estimates the node value based on outgoing links.\n",
    "'''\n",
    "def HITS(train_graph):\n",
    "    hits = nx.hits(train_graph, max_iter=100, tol=1e-08, nstart=None, normalized=True)\n",
    "    mean_hits = float(sum(hits[0].values())) / len(hits[0])\n",
    "    print('Hyper-link induced topic search (HITS)')\n",
    "    print('min',hits[0][min(hits[0], key=hits[0].get)])\n",
    "    print('max',hits[0][max(hits[0], key=hits[0].get)])\n",
    "    print('mean',mean_hits,'\\n')\n",
    "    return hits, mean_hits"
   ]
  },
  {
   "cell_type": "code",
   "execution_count": 28,
   "metadata": {
    "code_folding": []
   },
   "outputs": [],
   "source": [
    "def compute_features_follow(df_final):\n",
    "    #calculating no of followers followees for node1 and node2\n",
    "    #calculating intersection of followers and followees for node1 and node2\n",
    "    num_followers_1=[]\n",
    "    num_followees_1=[]\n",
    "    num_followers_2=[]\n",
    "    num_followees_2=[]\n",
    "    inter_followers=[]\n",
    "    inter_followees=[]\n",
    "    for i,row in df_final.iterrows():\n",
    "        try:\n",
    "            n1_p=set(train_graph.predecessors(row['node1']))\n",
    "            n1_s=set(train_graph.successors(row['node1']))\n",
    "        except:\n",
    "            n1_p = set()\n",
    "            n1_s = set()\n",
    "        try:\n",
    "            n2_p =set(train_graph.predecessors(row['node2']))\n",
    "            n2_s =set(train_graph.successors(row['node2']))\n",
    "        except:\n",
    "            n2_p = set()\n",
    "            n2_s = set()\n",
    "        num_followers_1.append(len(n1_p))\n",
    "        num_followees_1.append(len(n1_s))\n",
    "\n",
    "        num_followers_2.append(len(n2_p))\n",
    "        num_followees_2.append(len(n2_s))\n",
    "\n",
    "        inter_followers.append(len(n1_p.intersection(n2_p)))\n",
    "        inter_followees.append(len(n1_s.intersection(n2_s)))\n",
    "    \n",
    "    return num_followers_1, num_followers_2, num_followees_1, num_followees_2, inter_followers, inter_followees"
   ]
  },
  {
   "cell_type": "markdown",
   "metadata": {},
   "source": [
    "# Node2Vec"
   ]
  },
  {
   "cell_type": "code",
   "execution_count": 29,
   "metadata": {},
   "outputs": [
    {
     "name": "stderr",
     "output_type": "stream",
     "text": [
      "Computing transition probabilities: 100%|███████████████████████████████████████████| 979/979 [00:03<00:00, 295.22it/s]\n",
      "Generating walks (CPU: 1): 100%|███████████████████████████████████████████████████████| 10/10 [00:07<00:00,  1.41it/s]\n"
     ]
    }
   ],
   "source": [
    "# Precompute probabilities and generate walks \n",
    "node2vec = Node2Vec(G, dimensions=64, walk_length=30, num_walks=10)  \n",
    "\n",
    "# Embed nodes\n",
    "model = node2vec.fit(window=10, min_count=1, batch_words=4) "
   ]
  },
  {
   "cell_type": "code",
   "execution_count": 30,
   "metadata": {},
   "outputs": [],
   "source": [
    "def cosin_distance(vector1, vector2):\n",
    "    dot_product = 0.0\n",
    "    normA = 0.0\n",
    "    normB = 0.0\n",
    "    for a, b in zip(vector1, vector2):\n",
    "        dot_product += a * b\n",
    "        normA += a ** 2\n",
    "        normB += b ** 2\n",
    "    if normA == 0.0 or normB == 0.0:\n",
    "        return None\n",
    "    else:\n",
    "        return dot_product / ((normA * normB) ** 0.5)\n",
    "\n",
    "def cos_sim(x_train):\n",
    "    node_sim = [] \n",
    "    for i,j in x_train[['node1','node2']].values:\n",
    "        try:\n",
    "            sim = cosin_distance(model.wv.get_vector(str(i)),model.wv.get_vector(str(j)))\n",
    "        except:\n",
    "            sim = -1\n",
    "        node_sim.append(sim)\n",
    "    \n",
    "    final_sim = np.round(node_sim,3)\n",
    "    return final_sim"
   ]
  },
  {
   "cell_type": "markdown",
   "metadata": {},
   "source": [
    "# map features to data"
   ]
  },
  {
   "cell_type": "code",
   "execution_count": 31,
   "metadata": {
    "code_folding": []
   },
   "outputs": [],
   "source": [
    "def map_features(X_train, train_graph, df_to_write_in, version, link_y):\n",
    "    start_time = time()\n",
    "\n",
    "    X_train['jaccard_coef'] = X_train.apply(lambda row:cal_jaccard_coefficient(row['node1'],row['node2'],train_graph),axis=1)\n",
    "    X_train['adar_index'] = X_train.apply(lambda row: calc_adar_in(row['node1'],row['node2'],train_graph),axis=1)\n",
    "    X_train['shortest_path'] = X_train.apply(lambda row: compute_shortest_path_length(row['node1'],row['node2'],train_graph),axis=1)\n",
    "    X_train['follows_back'] = X_train.apply(lambda row: follows_back(row['node1'],row['node2'],train_graph),axis=1)\n",
    "    \n",
    "    pr, mean_pr = pg_rank(train_graph)\n",
    "    X_train['page_rank_n1'] = X_train.node1.apply(lambda x:pr.get(x,mean_pr))\n",
    "    X_train['page_rank_n2'] = X_train.node2.apply(lambda x:pr.get(x,mean_pr))\n",
    "\n",
    "    katz, mean_katz = katz_central(train_graph)\n",
    "    X_train['katz_n1'] = X_train.node1.apply(lambda x: katz.get(x,mean_katz))\n",
    "    X_train['katz_n2'] = X_train.node2.apply(lambda x: katz.get(x,mean_katz))\n",
    "\n",
    "    hits, mean_hits = HITS(train_graph)\n",
    "    X_train['hubs_n1'] = X_train.node1.apply(lambda x: hits[0].get(x,0))\n",
    "    X_train['hubs_n2'] = X_train.node2.apply(lambda x: hits[0].get(x,0))\n",
    "    X_train['authorities_n1'] = X_train.node1.apply(lambda x: hits[1].get(x,0))\n",
    "    X_train['authorities_n2'] = X_train.node2.apply(lambda x: hits[1].get(x,0))\n",
    "\n",
    "    X_train['num_followers_node1'], X_train['num_followers_node2'], \\\n",
    "    X_train['num_followees_node1'], X_train['num_followees_node2'], \\\n",
    "    X_train['inter_followers'], X_train['inter_followees']= compute_features_follow(X_train)\n",
    "    \n",
    "    X_train['cos_sim'] = cos_sim(X_train)\n",
    "    \n",
    "    X_train['link'] = link_y\n",
    "    print(\"--- %s seconds ---\" % (time() - start_time))\n",
    "    X_train.to_csv('features/%s_%d.csv'% (df_to_write_in, version), index=False)\n",
    "    \n",
    "    return X_train"
   ]
  },
  {
   "cell_type": "code",
   "execution_count": 32,
   "metadata": {},
   "outputs": [
    {
     "name": "stdout",
     "output_type": "stream",
     "text": [
      "pg rank\n",
      "min 0.000232166384117935\n",
      "max 0.006136821049612314\n",
      "mean 0.0010905125408942201\n",
      "Katz Centrality\n",
      "min 0.030762336873721593\n",
      "max 0.046258088955172603\n",
      "mean 0.03294528736512956\n",
      "Hyper-link induced topic search (HITS)\n",
      "min 0.0\n",
      "max 0.010698703398751114\n",
      "mean 0.0010905125408942203 \n",
      "\n",
      "--- 11.99114179611206 seconds ---\n"
     ]
    }
   ],
   "source": [
    "x_train_train = map_features(X_train_tra, train_tra_graph, 'X_train_train', 10, y_train_tra)"
   ]
  },
  {
   "cell_type": "code",
   "execution_count": 33,
   "metadata": {},
   "outputs": [
    {
     "name": "stdout",
     "output_type": "stream",
     "text": [
      "pg rank\n",
      "min 0.000232166384117935\n",
      "max 0.006136821049612314\n",
      "mean 0.0010905125408942201\n",
      "Katz Centrality\n",
      "min 0.030762336873721593\n",
      "max 0.046258088955172603\n",
      "mean 0.03294528736512956\n",
      "Hyper-link induced topic search (HITS)\n",
      "min 0.0\n",
      "max 0.010698703398751114\n",
      "mean 0.0010905125408942203 \n",
      "\n",
      "--- 4.356195449829102 seconds ---\n"
     ]
    }
   ],
   "source": [
    "x_train_valid = map_features(X_train_val, train_tra_graph, 'X_train_valid', 10, y_train_val)"
   ]
  },
  {
   "cell_type": "code",
   "execution_count": 34,
   "metadata": {},
   "outputs": [
    {
     "data": {
      "text/html": [
       "<div>\n",
       "<style scoped>\n",
       "    .dataframe tbody tr th:only-of-type {\n",
       "        vertical-align: middle;\n",
       "    }\n",
       "\n",
       "    .dataframe tbody tr th {\n",
       "        vertical-align: top;\n",
       "    }\n",
       "\n",
       "    .dataframe thead th {\n",
       "        text-align: right;\n",
       "    }\n",
       "</style>\n",
       "<table border=\"1\" class=\"dataframe\">\n",
       "  <thead>\n",
       "    <tr style=\"text-align: right;\">\n",
       "      <th></th>\n",
       "      <th>node1</th>\n",
       "      <th>node2</th>\n",
       "      <th>jaccard_coef</th>\n",
       "      <th>adar_index</th>\n",
       "      <th>shortest_path</th>\n",
       "      <th>follows_back</th>\n",
       "      <th>page_rank_n1</th>\n",
       "      <th>page_rank_n2</th>\n",
       "      <th>katz_n1</th>\n",
       "      <th>katz_n2</th>\n",
       "      <th>...</th>\n",
       "      <th>authorities_n1</th>\n",
       "      <th>authorities_n2</th>\n",
       "      <th>num_followers_node1</th>\n",
       "      <th>num_followers_node2</th>\n",
       "      <th>num_followees_node1</th>\n",
       "      <th>num_followees_node2</th>\n",
       "      <th>inter_followers</th>\n",
       "      <th>inter_followees</th>\n",
       "      <th>cos_sim</th>\n",
       "      <th>link</th>\n",
       "    </tr>\n",
       "  </thead>\n",
       "  <tbody>\n",
       "    <tr>\n",
       "      <th>0</th>\n",
       "      <td>377</td>\n",
       "      <td>464</td>\n",
       "      <td>0.015152</td>\n",
       "      <td>0.642549</td>\n",
       "      <td>2</td>\n",
       "      <td>0</td>\n",
       "      <td>0.002488</td>\n",
       "      <td>0.001479</td>\n",
       "      <td>0.037038</td>\n",
       "      <td>0.033977</td>\n",
       "      <td>...</td>\n",
       "      <td>0.002204</td>\n",
       "      <td>0.001710</td>\n",
       "      <td>44</td>\n",
       "      <td>24</td>\n",
       "      <td>75</td>\n",
       "      <td>16</td>\n",
       "      <td>2</td>\n",
       "      <td>1</td>\n",
       "      <td>0.196</td>\n",
       "      <td>1.0</td>\n",
       "    </tr>\n",
       "    <tr>\n",
       "      <th>1</th>\n",
       "      <td>918</td>\n",
       "      <td>974</td>\n",
       "      <td>0.000000</td>\n",
       "      <td>0.000000</td>\n",
       "      <td>3</td>\n",
       "      <td>1</td>\n",
       "      <td>0.000745</td>\n",
       "      <td>0.000490</td>\n",
       "      <td>0.032169</td>\n",
       "      <td>0.031289</td>\n",
       "      <td>...</td>\n",
       "      <td>0.000527</td>\n",
       "      <td>0.000206</td>\n",
       "      <td>10</td>\n",
       "      <td>5</td>\n",
       "      <td>7</td>\n",
       "      <td>5</td>\n",
       "      <td>1</td>\n",
       "      <td>2</td>\n",
       "      <td>0.950</td>\n",
       "      <td>1.0</td>\n",
       "    </tr>\n",
       "  </tbody>\n",
       "</table>\n",
       "<p>2 rows × 22 columns</p>\n",
       "</div>"
      ],
      "text/plain": [
       "   node1  node2  jaccard_coef  adar_index  shortest_path  follows_back  \\\n",
       "0    377    464      0.015152    0.642549              2             0   \n",
       "1    918    974      0.000000    0.000000              3             1   \n",
       "\n",
       "   page_rank_n1  page_rank_n2   katz_n1   katz_n2  ...   authorities_n1  \\\n",
       "0      0.002488      0.001479  0.037038  0.033977  ...         0.002204   \n",
       "1      0.000745      0.000490  0.032169  0.031289  ...         0.000527   \n",
       "\n",
       "   authorities_n2  num_followers_node1  num_followers_node2  \\\n",
       "0        0.001710                   44                   24   \n",
       "1        0.000206                   10                    5   \n",
       "\n",
       "   num_followees_node1  num_followees_node2  inter_followers  inter_followees  \\\n",
       "0                   75                   16                2                1   \n",
       "1                    7                    5                1                2   \n",
       "\n",
       "   cos_sim  link  \n",
       "0    0.196   1.0  \n",
       "1    0.950   1.0  \n",
       "\n",
       "[2 rows x 22 columns]"
      ]
     },
     "execution_count": 34,
     "metadata": {},
     "output_type": "execute_result"
    }
   ],
   "source": [
    "x_train_train.head(2)"
   ]
  },
  {
   "cell_type": "code",
   "execution_count": 35,
   "metadata": {},
   "outputs": [
    {
     "name": "stdout",
     "output_type": "stream",
     "text": [
      "pg rank\n",
      "min 0.00021927129612718288\n",
      "max 0.017357880091321273\n",
      "mean 0.0010626992561105241\n",
      "Katz Centrality\n",
      "min 0.029790433793679696\n",
      "max 0.04851136786130019\n",
      "mean 0.032474922437919156\n",
      "Hyper-link induced topic search (HITS)\n",
      "min 0.0\n",
      "max 0.011596257114007726\n",
      "mean 0.001062699256110521 \n",
      "\n",
      "--- 15.936713695526123 seconds ---\n"
     ]
    }
   ],
   "source": [
    "X_train = map_features(X_train, train_graph, 'X_train', 10, y_train)"
   ]
  },
  {
   "cell_type": "code",
   "execution_count": 39,
   "metadata": {},
   "outputs": [
    {
     "data": {
      "text/html": [
       "<div>\n",
       "<style scoped>\n",
       "    .dataframe tbody tr th:only-of-type {\n",
       "        vertical-align: middle;\n",
       "    }\n",
       "\n",
       "    .dataframe tbody tr th {\n",
       "        vertical-align: top;\n",
       "    }\n",
       "\n",
       "    .dataframe thead th {\n",
       "        text-align: right;\n",
       "    }\n",
       "</style>\n",
       "<table border=\"1\" class=\"dataframe\">\n",
       "  <thead>\n",
       "    <tr style=\"text-align: right;\">\n",
       "      <th></th>\n",
       "      <th>node1</th>\n",
       "      <th>node2</th>\n",
       "      <th>jaccard_coef</th>\n",
       "      <th>adar_index</th>\n",
       "      <th>shortest_path</th>\n",
       "      <th>follows_back</th>\n",
       "      <th>page_rank_n1</th>\n",
       "      <th>page_rank_n2</th>\n",
       "      <th>katz_n1</th>\n",
       "      <th>katz_n2</th>\n",
       "      <th>...</th>\n",
       "      <th>authorities_n1</th>\n",
       "      <th>authorities_n2</th>\n",
       "      <th>num_followers_node1</th>\n",
       "      <th>num_followers_node2</th>\n",
       "      <th>num_followees_node1</th>\n",
       "      <th>num_followees_node2</th>\n",
       "      <th>inter_followers</th>\n",
       "      <th>inter_followees</th>\n",
       "      <th>cos_sim</th>\n",
       "      <th>link</th>\n",
       "    </tr>\n",
       "  </thead>\n",
       "  <tbody>\n",
       "    <tr>\n",
       "      <th>count</th>\n",
       "      <td>28638.000000</td>\n",
       "      <td>28638.000000</td>\n",
       "      <td>28638.000000</td>\n",
       "      <td>28638.000000</td>\n",
       "      <td>28638.000000</td>\n",
       "      <td>28638.000000</td>\n",
       "      <td>28638.000000</td>\n",
       "      <td>28638.000000</td>\n",
       "      <td>28638.000000</td>\n",
       "      <td>28638.000000</td>\n",
       "      <td>...</td>\n",
       "      <td>28638.000000</td>\n",
       "      <td>28638.000000</td>\n",
       "      <td>28638.000000</td>\n",
       "      <td>28638.000000</td>\n",
       "      <td>28638.000000</td>\n",
       "      <td>28638.000000</td>\n",
       "      <td>28638.000000</td>\n",
       "      <td>28638.000000</td>\n",
       "      <td>28638.000000</td>\n",
       "      <td>28638.000000</td>\n",
       "    </tr>\n",
       "    <tr>\n",
       "      <th>mean</th>\n",
       "      <td>433.440603</td>\n",
       "      <td>434.674733</td>\n",
       "      <td>0.053925</td>\n",
       "      <td>1.973485</td>\n",
       "      <td>1.387667</td>\n",
       "      <td>0.206195</td>\n",
       "      <td>0.001383</td>\n",
       "      <td>0.001394</td>\n",
       "      <td>0.033734</td>\n",
       "      <td>0.033659</td>\n",
       "      <td>...</td>\n",
       "      <td>0.001550</td>\n",
       "      <td>0.001526</td>\n",
       "      <td>21.367519</td>\n",
       "      <td>20.996787</td>\n",
       "      <td>23.973357</td>\n",
       "      <td>21.586563</td>\n",
       "      <td>2.879740</td>\n",
       "      <td>2.852713</td>\n",
       "      <td>0.339283</td>\n",
       "      <td>0.500000</td>\n",
       "    </tr>\n",
       "    <tr>\n",
       "      <th>std</th>\n",
       "      <td>289.940688</td>\n",
       "      <td>287.791149</td>\n",
       "      <td>0.121216</td>\n",
       "      <td>3.692951</td>\n",
       "      <td>1.651564</td>\n",
       "      <td>0.404579</td>\n",
       "      <td>0.001160</td>\n",
       "      <td>0.001305</td>\n",
       "      <td>0.003794</td>\n",
       "      <td>0.003684</td>\n",
       "      <td>...</td>\n",
       "      <td>0.001727</td>\n",
       "      <td>0.001694</td>\n",
       "      <td>21.574578</td>\n",
       "      <td>20.880349</td>\n",
       "      <td>28.250860</td>\n",
       "      <td>25.549789</td>\n",
       "      <td>4.796541</td>\n",
       "      <td>5.197039</td>\n",
       "      <td>0.433485</td>\n",
       "      <td>0.500009</td>\n",
       "    </tr>\n",
       "    <tr>\n",
       "      <th>min</th>\n",
       "      <td>0.000000</td>\n",
       "      <td>0.000000</td>\n",
       "      <td>0.000000</td>\n",
       "      <td>0.000000</td>\n",
       "      <td>-1.000000</td>\n",
       "      <td>0.000000</td>\n",
       "      <td>0.000219</td>\n",
       "      <td>0.000219</td>\n",
       "      <td>0.029790</td>\n",
       "      <td>0.029790</td>\n",
       "      <td>...</td>\n",
       "      <td>0.000000</td>\n",
       "      <td>0.000000</td>\n",
       "      <td>0.000000</td>\n",
       "      <td>0.000000</td>\n",
       "      <td>0.000000</td>\n",
       "      <td>0.000000</td>\n",
       "      <td>0.000000</td>\n",
       "      <td>0.000000</td>\n",
       "      <td>-1.000000</td>\n",
       "      <td>0.000000</td>\n",
       "    </tr>\n",
       "    <tr>\n",
       "      <th>25%</th>\n",
       "      <td>176.000000</td>\n",
       "      <td>182.000000</td>\n",
       "      <td>0.000000</td>\n",
       "      <td>0.000000</td>\n",
       "      <td>-1.000000</td>\n",
       "      <td>0.000000</td>\n",
       "      <td>0.000605</td>\n",
       "      <td>0.000618</td>\n",
       "      <td>0.030958</td>\n",
       "      <td>0.030978</td>\n",
       "      <td>...</td>\n",
       "      <td>0.000258</td>\n",
       "      <td>0.000265</td>\n",
       "      <td>5.000000</td>\n",
       "      <td>5.000000</td>\n",
       "      <td>4.000000</td>\n",
       "      <td>3.000000</td>\n",
       "      <td>0.000000</td>\n",
       "      <td>0.000000</td>\n",
       "      <td>0.079000</td>\n",
       "      <td>0.000000</td>\n",
       "    </tr>\n",
       "    <tr>\n",
       "      <th>50%</th>\n",
       "      <td>401.000000</td>\n",
       "      <td>402.000000</td>\n",
       "      <td>0.000000</td>\n",
       "      <td>0.000000</td>\n",
       "      <td>2.000000</td>\n",
       "      <td>0.000000</td>\n",
       "      <td>0.001063</td>\n",
       "      <td>0.001063</td>\n",
       "      <td>0.032506</td>\n",
       "      <td>0.032504</td>\n",
       "      <td>...</td>\n",
       "      <td>0.000895</td>\n",
       "      <td>0.000897</td>\n",
       "      <td>15.000000</td>\n",
       "      <td>15.000000</td>\n",
       "      <td>15.000000</td>\n",
       "      <td>14.000000</td>\n",
       "      <td>0.000000</td>\n",
       "      <td>0.000000</td>\n",
       "      <td>0.328000</td>\n",
       "      <td>0.500000</td>\n",
       "    </tr>\n",
       "    <tr>\n",
       "      <th>75%</th>\n",
       "      <td>671.000000</td>\n",
       "      <td>671.000000</td>\n",
       "      <td>0.074074</td>\n",
       "      <td>2.951680</td>\n",
       "      <td>3.000000</td>\n",
       "      <td>0.000000</td>\n",
       "      <td>0.001767</td>\n",
       "      <td>0.001733</td>\n",
       "      <td>0.035155</td>\n",
       "      <td>0.035017</td>\n",
       "      <td>...</td>\n",
       "      <td>0.002319</td>\n",
       "      <td>0.002201</td>\n",
       "      <td>30.000000</td>\n",
       "      <td>29.000000</td>\n",
       "      <td>34.000000</td>\n",
       "      <td>30.000000</td>\n",
       "      <td>5.000000</td>\n",
       "      <td>4.000000</td>\n",
       "      <td>0.698000</td>\n",
       "      <td>1.000000</td>\n",
       "    </tr>\n",
       "    <tr>\n",
       "      <th>max</th>\n",
       "      <td>1004.000000</td>\n",
       "      <td>1004.000000</td>\n",
       "      <td>1.000000</td>\n",
       "      <td>93.290464</td>\n",
       "      <td>6.000000</td>\n",
       "      <td>1.000000</td>\n",
       "      <td>0.017358</td>\n",
       "      <td>0.017358</td>\n",
       "      <td>0.048511</td>\n",
       "      <td>0.048511</td>\n",
       "      <td>...</td>\n",
       "      <td>0.007640</td>\n",
       "      <td>0.007640</td>\n",
       "      <td>106.000000</td>\n",
       "      <td>106.000000</td>\n",
       "      <td>181.000000</td>\n",
       "      <td>181.000000</td>\n",
       "      <td>105.000000</td>\n",
       "      <td>123.000000</td>\n",
       "      <td>1.000000</td>\n",
       "      <td>1.000000</td>\n",
       "    </tr>\n",
       "  </tbody>\n",
       "</table>\n",
       "<p>8 rows × 22 columns</p>\n",
       "</div>"
      ],
      "text/plain": [
       "              node1         node2  jaccard_coef    adar_index  shortest_path  \\\n",
       "count  28638.000000  28638.000000  28638.000000  28638.000000   28638.000000   \n",
       "mean     433.440603    434.674733      0.053925      1.973485       1.387667   \n",
       "std      289.940688    287.791149      0.121216      3.692951       1.651564   \n",
       "min        0.000000      0.000000      0.000000      0.000000      -1.000000   \n",
       "25%      176.000000    182.000000      0.000000      0.000000      -1.000000   \n",
       "50%      401.000000    402.000000      0.000000      0.000000       2.000000   \n",
       "75%      671.000000    671.000000      0.074074      2.951680       3.000000   \n",
       "max     1004.000000   1004.000000      1.000000     93.290464       6.000000   \n",
       "\n",
       "       follows_back  page_rank_n1  page_rank_n2       katz_n1       katz_n2  \\\n",
       "count  28638.000000  28638.000000  28638.000000  28638.000000  28638.000000   \n",
       "mean       0.206195      0.001383      0.001394      0.033734      0.033659   \n",
       "std        0.404579      0.001160      0.001305      0.003794      0.003684   \n",
       "min        0.000000      0.000219      0.000219      0.029790      0.029790   \n",
       "25%        0.000000      0.000605      0.000618      0.030958      0.030978   \n",
       "50%        0.000000      0.001063      0.001063      0.032506      0.032504   \n",
       "75%        0.000000      0.001767      0.001733      0.035155      0.035017   \n",
       "max        1.000000      0.017358      0.017358      0.048511      0.048511   \n",
       "\n",
       "           ...       authorities_n1  authorities_n2  num_followers_node1  \\\n",
       "count      ...         28638.000000    28638.000000         28638.000000   \n",
       "mean       ...             0.001550        0.001526            21.367519   \n",
       "std        ...             0.001727        0.001694            21.574578   \n",
       "min        ...             0.000000        0.000000             0.000000   \n",
       "25%        ...             0.000258        0.000265             5.000000   \n",
       "50%        ...             0.000895        0.000897            15.000000   \n",
       "75%        ...             0.002319        0.002201            30.000000   \n",
       "max        ...             0.007640        0.007640           106.000000   \n",
       "\n",
       "       num_followers_node2  num_followees_node1  num_followees_node2  \\\n",
       "count         28638.000000         28638.000000         28638.000000   \n",
       "mean             20.996787            23.973357            21.586563   \n",
       "std              20.880349            28.250860            25.549789   \n",
       "min               0.000000             0.000000             0.000000   \n",
       "25%               5.000000             4.000000             3.000000   \n",
       "50%              15.000000            15.000000            14.000000   \n",
       "75%              29.000000            34.000000            30.000000   \n",
       "max             106.000000           181.000000           181.000000   \n",
       "\n",
       "       inter_followers  inter_followees       cos_sim          link  \n",
       "count     28638.000000     28638.000000  28638.000000  28638.000000  \n",
       "mean          2.879740         2.852713      0.339283      0.500000  \n",
       "std           4.796541         5.197039      0.433485      0.500009  \n",
       "min           0.000000         0.000000     -1.000000      0.000000  \n",
       "25%           0.000000         0.000000      0.079000      0.000000  \n",
       "50%           0.000000         0.000000      0.328000      0.500000  \n",
       "75%           5.000000         4.000000      0.698000      1.000000  \n",
       "max         105.000000       123.000000      1.000000      1.000000  \n",
       "\n",
       "[8 rows x 22 columns]"
      ]
     },
     "execution_count": 39,
     "metadata": {},
     "output_type": "execute_result"
    }
   ],
   "source": [
    "X_train.describe()"
   ]
  },
  {
   "cell_type": "code",
   "execution_count": 36,
   "metadata": {},
   "outputs": [
    {
     "name": "stdout",
     "output_type": "stream",
     "text": [
      "pg rank\n",
      "min 0.00021927129612718288\n",
      "max 0.017357880091321273\n",
      "mean 0.0010626992561105241\n",
      "Katz Centrality\n",
      "min 0.029790433793679696\n",
      "max 0.04851136786130019\n",
      "mean 0.032474922437919156\n",
      "Hyper-link induced topic search (HITS)\n",
      "min 0.0\n",
      "max 0.011596257114007726\n",
      "mean 0.001062699256110521 \n",
      "\n",
      "--- 8.745077133178711 seconds ---\n"
     ]
    }
   ],
   "source": [
    "X_test = map_features(X_test, train_graph, 'X_test', 10, y_test)"
   ]
  },
  {
   "cell_type": "code",
   "execution_count": 37,
   "metadata": {},
   "outputs": [
    {
     "name": "stdout",
     "output_type": "stream",
     "text": [
      "pg rank\n",
      "min 0.00019950526574374428\n",
      "max 0.018093180173678888\n",
      "mean 0.0010214504596527093\n",
      "Katz Centrality\n",
      "min 0.02788899829926249\n",
      "max 0.057905326386675705\n",
      "mean 0.03168690897115153\n",
      "Hyper-link induced topic search (HITS)\n",
      "min 0.0\n",
      "max 0.011219812058962837\n",
      "mean 0.001021450459652707 \n",
      "\n",
      "--- 27.365792751312256 seconds ---\n"
     ]
    }
   ],
   "source": [
    "train_all = map_features(train_all, G, 'train_all', 10, y_train_all)"
   ]
  },
  {
   "cell_type": "code",
   "execution_count": 38,
   "metadata": {},
   "outputs": [
    {
     "name": "stdout",
     "output_type": "stream",
     "text": [
      "pg rank\n",
      "min 0.00019950526574374428\n",
      "max 0.018093180173678888\n",
      "mean 0.0010214504596527093\n",
      "Katz Centrality\n",
      "min 0.02788899829926249\n",
      "max 0.057905326386675705\n",
      "mean 0.03168690897115153\n",
      "Hyper-link induced topic search (HITS)\n",
      "min 0.0\n",
      "max 0.011219812058962837\n",
      "mean 0.001021450459652707 \n",
      "\n",
      "--- 9.689629077911377 seconds ---\n"
     ]
    }
   ],
   "source": [
    "predict = map_features(predict, G, 'predict_all', 10, np.zeros(len(predict)))"
   ]
  },
  {
   "cell_type": "code",
   "execution_count": null,
   "metadata": {},
   "outputs": [],
   "source": []
  }
 ],
 "metadata": {
  "kernelspec": {
   "display_name": "Python 3",
   "language": "python",
   "name": "python3"
  },
  "language_info": {
   "codemirror_mode": {
    "name": "ipython",
    "version": 3
   },
   "file_extension": ".py",
   "mimetype": "text/x-python",
   "name": "python",
   "nbconvert_exporter": "python",
   "pygments_lexer": "ipython3",
   "version": "3.6.10"
  },
  "varInspector": {
   "cols": {
    "lenName": 16,
    "lenType": 16,
    "lenVar": 40
   },
   "kernels_config": {
    "python": {
     "delete_cmd_postfix": "",
     "delete_cmd_prefix": "del ",
     "library": "var_list.py",
     "varRefreshCmd": "print(var_dic_list())"
    },
    "r": {
     "delete_cmd_postfix": ") ",
     "delete_cmd_prefix": "rm(",
     "library": "var_list.r",
     "varRefreshCmd": "cat(var_dic_list()) "
    }
   },
   "oldHeight": 122.66666599999999,
   "position": {
    "height": "40px",
    "left": "908px",
    "right": "20px",
    "top": "125px",
    "width": "350px"
   },
   "types_to_exclude": [
    "module",
    "function",
    "builtin_function_or_method",
    "instance",
    "_Feature"
   ],
   "varInspector_section_display": "none",
   "window_display": true
  }
 },
 "nbformat": 4,
 "nbformat_minor": 4
}
