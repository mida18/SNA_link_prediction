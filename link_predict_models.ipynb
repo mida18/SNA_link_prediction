{
 "cells": [
  {
   "cell_type": "code",
   "execution_count": 1,
   "metadata": {},
   "outputs": [],
   "source": [
    "import matplotlib.pyplot as plt\n",
    "import pandas as pd\n",
    "import numpy as np\n",
    "import random\n",
    "import networkx as nx\n",
    "import scipy.sparse as sp\n",
    "from scipy.stats import randint as sp_randint\n",
    "from sklearn  import preprocessing\n",
    "from sklearn.preprocessing  import StandardScaler\n",
    "from sklearn.metrics import accuracy_score, average_precision_score\n",
    "from sklearn.ensemble import RandomForestClassifier\n",
    "from sklearn.model_selection import RandomizedSearchCV\n",
    "\n",
    "from time import time\n",
    "from sklearn.decomposition import PCA\n",
    "from sklearn import svm"
   ]
  },
  {
   "cell_type": "markdown",
   "metadata": {},
   "source": [
    "### train-validation"
   ]
  },
  {
   "cell_type": "code",
   "execution_count": 2,
   "metadata": {},
   "outputs": [
    {
     "name": "stdout",
     "output_type": "stream",
     "text": [
      "train： 22910, test： 5728\n"
     ]
    }
   ],
   "source": [
    "x_train_final = pd.read_csv(\"features/X_train_train_10.csv\")\n",
    "x_test_final = pd.read_csv(\"features/X_train_valid_10.csv\")\n",
    "print(\"train： %s, test： %s\" % (len(x_train_final),len(x_test_final)))\n",
    "\n",
    "y_train_final = x_train_final['link']\n",
    "y_test_final = x_test_final['link']\n",
    "x_train_final.drop(['node1', 'node2','link','shortest_path'],axis=1,inplace=True)\n",
    "x_test_final.drop(['node1', 'node2','link','shortest_path'],axis=1,inplace=True)"
   ]
  },
  {
   "cell_type": "markdown",
   "metadata": {},
   "source": [
    "### train-test"
   ]
  },
  {
   "cell_type": "code",
   "execution_count": 3,
   "metadata": {},
   "outputs": [
    {
     "name": "stdout",
     "output_type": "stream",
     "text": [
      "train： 28638, test： 12276\n"
     ]
    }
   ],
   "source": [
    "x_train_final2 = pd.read_csv(\"features/X_train_10.csv\")\n",
    "x_test_final2 = pd.read_csv(\"features/X_test_10.csv\")\n",
    "print(\"train： %s, test： %s\" % (len(x_train_final2),len(x_test_final2)))\n",
    "\n",
    "y_train_final2 = x_train_final2['link']\n",
    "y_test_final2 = x_test_final2['link']\n",
    "x_train_final2.drop(['node1', 'node2','link','shortest_path'],axis=1,inplace=True)\n",
    "x_test_final2.drop(['node1', 'node2','link','shortest_path'],axis=1,inplace=True)"
   ]
  },
  {
   "cell_type": "markdown",
   "metadata": {},
   "source": [
    "### train-predict"
   ]
  },
  {
   "cell_type": "code",
   "execution_count": 4,
   "metadata": {},
   "outputs": [
    {
     "name": "stdout",
     "output_type": "stream",
     "text": [
      "train： 40914, predict： 10231\n"
     ]
    }
   ],
   "source": [
    "x_train_final3 = pd.read_csv(\"features/train_all_10.csv\")\n",
    "x_pred_final = pd.read_csv(\"features/predict_all_10.csv\")\n",
    "print(\"train： %s, predict： %s\" % (len(x_train_final3),len(x_pred_final)))\n",
    "\n",
    "y_train_final3 = x_train_final3['link']\n",
    "\n",
    "x_train_final3.drop(['node1', 'node2','link','shortest_path'],axis=1,inplace=True)\n",
    "x_pred_final.drop(['node1', 'node2','link','shortest_path'],axis=1,inplace=True)"
   ]
  },
  {
   "cell_type": "markdown",
   "metadata": {},
   "source": [
    "# model (random forest)"
   ]
  },
  {
   "cell_type": "code",
   "execution_count": 5,
   "metadata": {},
   "outputs": [
    {
     "name": "stdout",
     "output_type": "stream",
     "text": [
      "mean test scores \n",
      " [0.98092536 0.98118725 0.98101266 0.98096901 0.9812309 ]\n",
      "--- 62.24066996574402 seconds ---\n"
     ]
    }
   ],
   "source": [
    "#train model\n",
    "start_time = time()\n",
    "param_dist = {\"n_estimators\":sp_randint(100,150),\n",
    "              \"max_depth\": sp_randint(10,20)}\n",
    "\n",
    "clf = RandomForestClassifier(random_state=25,n_jobs=-1, oob_score=True)\n",
    "rf_random = RandomizedSearchCV(clf, param_distributions=param_dist,\n",
    "                                   n_iter=5,cv=10,scoring='accuracy',random_state=25)\n",
    "\n",
    "rf_random.fit(x_train_final, y_train_final)\n",
    "print('mean test scores','\\n',rf_random.cv_results_['mean_test_score'])\n",
    "print(\"--- %s seconds ---\" % (time() - start_time))"
   ]
  },
  {
   "cell_type": "code",
   "execution_count": 6,
   "metadata": {},
   "outputs": [
    {
     "name": "stdout",
     "output_type": "stream",
     "text": [
      "RandomForestClassifier(bootstrap=True, class_weight=None, criterion='gini',\n",
      "                       max_depth=14, max_features='auto', max_leaf_nodes=None,\n",
      "                       min_impurity_decrease=0.0, min_impurity_split=None,\n",
      "                       min_samples_leaf=1, min_samples_split=2,\n",
      "                       min_weight_fraction_leaf=0.0, n_estimators=105,\n",
      "                       n_jobs=-1, oob_score=True, random_state=25, verbose=0,\n",
      "                       warm_start=False)\n"
     ]
    }
   ],
   "source": [
    "# build model with the best parameters\n",
    "clf = rf_random.best_estimator_\n",
    "print(rf_random.best_estimator_)"
   ]
  },
  {
   "cell_type": "code",
   "execution_count": 7,
   "metadata": {},
   "outputs": [
    {
     "name": "stdout",
     "output_type": "stream",
     "text": [
      "0.9813182016586643\n",
      "Validation accuracy score:  0.9725907821229051\n"
     ]
    }
   ],
   "source": [
    "clf.fit(x_train_final, y_train_final)\n",
    "print (clf.oob_score_)\n",
    "\n",
    "y_pred = clf.predict(x_test_final)\n",
    "print (\"Validation accuracy score: \" ,accuracy_score(y_test_final, y_pred))"
   ]
  },
  {
   "cell_type": "code",
   "execution_count": 8,
   "metadata": {},
   "outputs": [
    {
     "name": "stdout",
     "output_type": "stream",
     "text": [
      "0.9804804804804805\n",
      "Testing accuracy score:  0.9625285109156076\n"
     ]
    }
   ],
   "source": [
    "clf.fit(x_train_final2, y_train_final2)\n",
    "print (clf.oob_score_)\n",
    "\n",
    "y_pred = clf.predict(x_test_final2)\n",
    "print('Testing accuracy score: ',accuracy_score(y_test_final2, y_pred))"
   ]
  },
  {
   "cell_type": "code",
   "execution_count": 9,
   "metadata": {},
   "outputs": [
    {
     "name": "stdout",
     "output_type": "stream",
     "text": [
      "0.9834042137165763\n"
     ]
    }
   ],
   "source": [
    "clf.fit(x_train_final3, y_train_final3)\n",
    "print (clf.oob_score_)\n",
    "\n",
    "y_pred = clf.predict(x_pred_final)"
   ]
  },
  {
   "cell_type": "code",
   "execution_count": 10,
   "metadata": {},
   "outputs": [
    {
     "data": {
      "text/plain": [
       "5580.0"
      ]
     },
     "execution_count": 10,
     "metadata": {},
     "output_type": "execute_result"
    }
   ],
   "source": [
    "sum(y_pred)"
   ]
  },
  {
   "cell_type": "code",
   "execution_count": 11,
   "metadata": {},
   "outputs": [],
   "source": [
    "answer = pd.read_csv(\"ans_example.csv\")\n",
    "answer['ans'] = [int(i) for i in y_pred] # turn float to int type\n",
    "answer.to_csv(\"ans_30_rf_node2vec.csv\", index=False )"
   ]
  },
  {
   "cell_type": "markdown",
   "metadata": {},
   "source": [
    "# model (kernel SVM using PCA feature extraction)"
   ]
  },
  {
   "cell_type": "code",
   "execution_count": 12,
   "metadata": {
    "code_folding": []
   },
   "outputs": [],
   "source": [
    "def train_test_std(x_train_final, x_test_final):\n",
    "    scaler = preprocessing.StandardScaler().fit(x_train_final)\n",
    "    x_train_final_std = pd.DataFrame(scaler.transform(x_train_final.values), columns=x_train_final.columns)\n",
    "    x_test_final_std = pd.DataFrame(scaler.transform(x_test_final.values), columns=x_test_final.columns)\n",
    "    return x_train_final_std, x_test_final_std"
   ]
  },
  {
   "cell_type": "markdown",
   "metadata": {},
   "source": [
    "##### train-validation"
   ]
  },
  {
   "cell_type": "code",
   "execution_count": 13,
   "metadata": {},
   "outputs": [],
   "source": [
    "x_train_final_std, x_test_final_std = train_test_std(x_train_final, x_test_final)"
   ]
  },
  {
   "cell_type": "code",
   "execution_count": 14,
   "metadata": {},
   "outputs": [
    {
     "name": "stdout",
     "output_type": "stream",
     "text": [
      "Validation accuracy score:  0.9626396648044693\n"
     ]
    }
   ],
   "source": [
    "#PCA\n",
    "pca = PCA(n_components=6)\n",
    "x_train_pca = pca.fit_transform(x_train_final_std)\n",
    "x_test_pca = pca.transform(x_test_final_std)\n",
    "\n",
    "clf = svm.SVC(kernel='rbf', gamma=2)\n",
    "clf.fit(x_train_pca ,  y_train_final)\n",
    "svm_pred = clf.predict(x_test_pca)\n",
    "print('Validation accuracy score: ',accuracy_score(y_test_final, svm_pred))"
   ]
  },
  {
   "cell_type": "code",
   "execution_count": 15,
   "metadata": {},
   "outputs": [
    {
     "name": "stdout",
     "output_type": "stream",
     "text": [
      "Validation accuracy score:  0.9612430167597765\n"
     ]
    }
   ],
   "source": [
    "#std\n",
    "clf = svm.SVC(kernel='rbf', gamma=2)\n",
    "clf.fit(x_train_final_std,  y_train_final)\n",
    "svm_pred = clf.predict(x_test_final_std)\n",
    "print('Validation accuracy score: ',accuracy_score(y_test_final, svm_pred))"
   ]
  },
  {
   "cell_type": "markdown",
   "metadata": {},
   "source": [
    "##### train-test"
   ]
  },
  {
   "cell_type": "code",
   "execution_count": 16,
   "metadata": {},
   "outputs": [],
   "source": [
    "x_train_final_std, x_test_final_std = train_test_std(x_train_final2, x_test_final2)"
   ]
  },
  {
   "cell_type": "code",
   "execution_count": 17,
   "metadata": {},
   "outputs": [
    {
     "name": "stdout",
     "output_type": "stream",
     "text": [
      "Test accuracy score:  0.9625285109156076\n"
     ]
    }
   ],
   "source": [
    "#PCA\n",
    "pca = PCA(n_components=6)\n",
    "x_train_pca = pca.fit_transform(x_train_final_std)\n",
    "x_test_pca = pca.transform(x_test_final_std)\n",
    "\n",
    "clf = svm.SVC(kernel='rbf', gamma=2)\n",
    "clf.fit(x_train_pca ,  y_train_final2)\n",
    "svm_pred = clf.predict(x_test_pca)\n",
    "print('Test accuracy score: ',accuracy_score(y_test_final2, svm_pred))"
   ]
  },
  {
   "cell_type": "code",
   "execution_count": 18,
   "metadata": {},
   "outputs": [
    {
     "name": "stdout",
     "output_type": "stream",
     "text": [
      "Test accuracy score:  0.9625285109156076\n"
     ]
    }
   ],
   "source": [
    "#std\n",
    "clf = svm.SVC(kernel='rbf', gamma=2)\n",
    "clf.fit(x_train_final_std,  y_train_final2)\n",
    "svm_pred = clf.predict(x_test_final_std)\n",
    "print('Test accuracy score: ',accuracy_score(y_test_final2, svm_pred))"
   ]
  },
  {
   "cell_type": "markdown",
   "metadata": {},
   "source": [
    "##### train_all-predict"
   ]
  },
  {
   "cell_type": "code",
   "execution_count": 19,
   "metadata": {},
   "outputs": [],
   "source": [
    "x_train_final_std, x_pred_final_std = train_test_std(x_train_final3, x_pred_final)"
   ]
  },
  {
   "cell_type": "code",
   "execution_count": 20,
   "metadata": {},
   "outputs": [
    {
     "name": "stdout",
     "output_type": "stream",
     "text": [
      "# of rows: 10231, # of 1 predictions: 5544\n"
     ]
    }
   ],
   "source": [
    "#PCA\n",
    "pca = PCA(n_components=6)\n",
    "x_train_pca = pca.fit_transform(x_train_final_std)\n",
    "x_pred_pca = pca.transform(x_pred_final_std)\n",
    "\n",
    "clf = svm.SVC(kernel='rbf', gamma=2)\n",
    "clf.fit(x_train_pca ,  y_train_final3)\n",
    "svm_pred = clf.predict(x_pred_pca)\n",
    "print(\"# of rows: %d, # of 1 predictions: %d\" % (len(svm_pred), sum(svm_pred)))"
   ]
  },
  {
   "cell_type": "code",
   "execution_count": 21,
   "metadata": {},
   "outputs": [
    {
     "name": "stdout",
     "output_type": "stream",
     "text": [
      "# of rows: 10231, # of 1 predictions: 5626\n"
     ]
    }
   ],
   "source": [
    "#std\n",
    "clf = svm.SVC(kernel='rbf', gamma=2)\n",
    "clf.fit(x_train_final_std,  y_train_final3)\n",
    "svm_pred = clf.predict(x_pred_final_std)\n",
    "print(\"# of rows: %d, # of 1 predictions: %d\" % (len(svm_pred), sum(svm_pred)))"
   ]
  },
  {
   "cell_type": "code",
   "execution_count": 22,
   "metadata": {},
   "outputs": [],
   "source": [
    "answer = pd.read_csv(\"ans_example.csv\")\n",
    "answer['ans'] = [int(i) for i in svm_pred] # turn float to int type\n",
    "answer.to_csv(\"ans_31_ksvm.csv\", index=False )"
   ]
  }
 ],
 "metadata": {
  "kernelspec": {
   "display_name": "Python 3",
   "language": "python",
   "name": "python3"
  },
  "language_info": {
   "codemirror_mode": {
    "name": "ipython",
    "version": 3
   },
   "file_extension": ".py",
   "mimetype": "text/x-python",
   "name": "python",
   "nbconvert_exporter": "python",
   "pygments_lexer": "ipython3",
   "version": "3.6.10"
  },
  "varInspector": {
   "cols": {
    "lenName": 16,
    "lenType": 16,
    "lenVar": 40
   },
   "kernels_config": {
    "python": {
     "delete_cmd_postfix": "",
     "delete_cmd_prefix": "del ",
     "library": "var_list.py",
     "varRefreshCmd": "print(var_dic_list())"
    },
    "r": {
     "delete_cmd_postfix": ") ",
     "delete_cmd_prefix": "rm(",
     "library": "var_list.r",
     "varRefreshCmd": "cat(var_dic_list()) "
    }
   },
   "oldHeight": 122.66666599999999,
   "position": {
    "height": "40px",
    "left": "910px",
    "right": "20px",
    "top": "121px",
    "width": "350px"
   },
   "types_to_exclude": [
    "module",
    "function",
    "builtin_function_or_method",
    "instance",
    "_Feature"
   ],
   "varInspector_section_display": "none",
   "window_display": true
  }
 },
 "nbformat": 4,
 "nbformat_minor": 4
}
